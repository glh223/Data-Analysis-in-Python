{
 "cells": [
  {
   "cell_type": "markdown",
   "id": "84c3dbc5-3ca0-4df4-bae5-93d1e5e45693",
   "metadata": {},
   "source": [
    "## CS 2064: Gabriel Haley\n",
    "\n",
    "### Research Question\n",
    "\n",
    "Are higher stock prices indicative of higher weight in the stock market?\n",
    "\n",
    "## Source\n",
    "\n",
    "https://www.slickcharts.com/sp500"
   ]
  },
  {
   "cell_type": "code",
   "execution_count": 17,
   "id": "ae2ff0d7-842f-48d0-899f-43b619d337aa",
   "metadata": {},
   "outputs": [],
   "source": [
    "import requests\n",
    "import pandas as pd\n",
    "from bs4 import BeautifulSoup"
   ]
  },
  {
   "cell_type": "code",
   "execution_count": 19,
   "id": "0792d0fa-7fcb-4f56-b273-0f799b41991d",
   "metadata": {},
   "outputs": [],
   "source": [
    "url = \"https://www.slickcharts.com/sp500\"\n",
    "headers = {'User-Agent': 'Mozilla/5'} #Need headers to use API\n",
    "response = requests.get(url, headers = headers)\n",
    "soup = BeautifulSoup(response.content, 'html.parser') \n",
    "table = soup.find('table', class_='table') \n",
    "rows = table.find_all('tr') #extract rows in table\n",
    "\n",
    "data = [] \n",
    "for row in rows[1:]: #loops through rows\n",
    "    cols = row.find_all('td') #gets all table cells\n",
    "    if len(cols) >= 5: #five columns for each row\n",
    "        company = cols[1].text.strip()\n",
    "        symbol = cols[2].text.strip()\n",
    "        weight = cols[3].text.strip().replace('%', '')\n",
    "        price = cols[4].text.strip().replace('$', '')\n",
    "        data.append([company, symbol, weight, price])\n"
   ]
  },
  {
   "cell_type": "code",
   "execution_count": 21,
   "id": "52f4fb7e-082b-4fe6-8644-64a5d02ed160",
   "metadata": {},
   "outputs": [
    {
     "name": "stdout",
     "output_type": "stream",
     "text": [
      "                      Company Symbol  Weight (%)   Price\n",
      "0                      Nvidia   NVDA        7.23  171.47\n",
      "1                   Microsoft   MSFT        6.49  504.40\n",
      "2                  Apple Inc.   AAPL        6.07  236.25\n",
      "3                      Amazon   AMZN        4.17  225.70\n",
      "4              Meta Platforms   META        3.20  736.99\n",
      "..                        ...    ...         ...     ...\n",
      "498  Eastman Chemical Company    EMN        0.01   67.66\n",
      "499               MarketAxess   MKTX        0.01  179.89\n",
      "500       News Corp (Class B)    NWS        0.01   32.52\n",
      "501     Caesars Entertainment    CZR        0.01   25.04\n",
      "502            Enphase Energy   ENPH        0.01   37.31\n",
      "\n",
      "[494 rows x 4 columns]\n"
     ]
    }
   ],
   "source": [
    "#Create dataframes\n",
    "df = pd.DataFrame(data, columns=['Company', 'Symbol', 'Weight (%)', 'Price']) \n",
    "df['Price'] = pd.to_numeric(df['Price'], errors='coerce') #converts price and weight to a numeric value, 'coerce' inserts 'NaN' if the value cannot be converted\n",
    "df['Weight (%)'] = pd.to_numeric(df['Weight (%)'], errors='coerce')\n",
    "df = df.dropna(subset=['Weight (%)', 'Price'])\n",
    "print(df)"
   ]
  },
  {
   "cell_type": "code",
   "execution_count": 23,
   "id": "7ea48f3c-c959-4ce7-aaac-542b570697fe",
   "metadata": {},
   "outputs": [
    {
     "name": "stdout",
     "output_type": "stream",
     "text": [
      "With a correlation of 0.18756373530947143, the relationship between price and weight is weak in this case which suggests\n",
      "that stock price has little influence on a stock's market weight.\n"
     ]
    }
   ],
   "source": [
    "correlation = df['Price'].corr(df['Weight (%)']) #calculates correlation between price and weight\n",
    "print(f\"\"\"With a correlation of {correlation}, the relationship between price and weight is weak in this case which suggests\n",
    "that stock price has little influence on a stock's market weight.\"\"\")"
   ]
  }
 ],
 "metadata": {
  "kernelspec": {
   "display_name": "Python [conda env:base] *",
   "language": "python",
   "name": "conda-base-py"
  },
  "language_info": {
   "codemirror_mode": {
    "name": "ipython",
    "version": 3
   },
   "file_extension": ".py",
   "mimetype": "text/x-python",
   "name": "python",
   "nbconvert_exporter": "python",
   "pygments_lexer": "ipython3",
   "version": "3.12.7"
  }
 },
 "nbformat": 4,
 "nbformat_minor": 5
}
